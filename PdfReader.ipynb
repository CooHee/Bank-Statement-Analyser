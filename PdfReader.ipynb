{
 "cells": [
  {
   "cell_type": "code",
   "execution_count": 32,
   "metadata": {},
   "outputs": [
    {
     "name": "stdout",
     "output_type": "stream",
     "text": [
      "Requirement already satisfied: tabula-py in /Library/Frameworks/Python.framework/Versions/3.7/lib/python3.7/site-packages (2.1.0)\n",
      "Requirement already satisfied: pandas>=0.25.3 in /Library/Frameworks/Python.framework/Versions/3.7/lib/python3.7/site-packages (from tabula-py) (1.0.3)\n",
      "Requirement already satisfied: numpy in /Library/Frameworks/Python.framework/Versions/3.7/lib/python3.7/site-packages (from tabula-py) (1.18.3)\n",
      "Requirement already satisfied: distro in /Library/Frameworks/Python.framework/Versions/3.7/lib/python3.7/site-packages (from tabula-py) (1.5.0)\n",
      "Requirement already satisfied: python-dateutil>=2.6.1 in /Users/runchentao/Library/Python/3.7/lib/python/site-packages (from pandas>=0.25.3->tabula-py) (2.8.1)\n",
      "Requirement already satisfied: pytz>=2017.2 in /Library/Frameworks/Python.framework/Versions/3.7/lib/python3.7/site-packages (from pandas>=0.25.3->tabula-py) (2019.3)\n",
      "Requirement already satisfied: six>=1.5 in /Users/runchentao/Library/Python/3.7/lib/python/site-packages (from python-dateutil>=2.6.1->pandas>=0.25.3->tabula-py) (1.14.0)\n",
      "\u001b[33mYou are using pip version 19.0.3, however version 20.1b1 is available.\n",
      "You should consider upgrading via the 'pip install --upgrade pip' command.\u001b[0m\n"
     ]
    }
   ],
   "source": [
    "import numpy as np\n",
    "import pandas as pd\n",
    "!pip3 install tabula-py\n",
    "import tabula as tb"
   ]
  },
  {
   "cell_type": "code",
   "execution_count": 18,
   "metadata": {},
   "outputs": [],
   "source": [
    "BANK_DETAILS = {\n",
    "    'BoA': {\n",
    "        'date': 0,           # index of date column\n",
    "        'details': 1,            # index of cheque no. column\n",
    "        'withdrawal': 2,     # index of withdrawal column\n",
    "        'deposit': 3,        # index of deposit column\n",
    "        'balance': 4,        # index of balance column\n",
    "   }\n",
    "}"
   ]
  },
  {
   "cell_type": "code",
   "execution_count": 21,
   "metadata": {},
   "outputs": [
    {
     "data": {
      "text/plain": [
       "[                           0            1         2         3\n",
       " 0   Your Transaction Details          NaN       NaN       NaN\n",
       " 1                        NaN          NaN       NaN       NaN\n",
       " 2               Date Details  Withdrawals  Deposits   Balance\n",
       " 3                        NaN          NaN       NaN       NaN\n",
       " 4      Apr 8 Opening Balance          NaN       NaN  5,234.09\n",
       " 5            Apr 8 Insurance          NaN    272.45  5,506.54\n",
       " 6                 Apr 10 ATM       200.00       NaN  5,306.54\n",
       " 7   Apr 12 Internet Transfer          NaN    250.00  5,556.54\n",
       " 8             Apr 12 Payroll          NaN   2100.00  7,656.54\n",
       " 9        Apr 13 Bill payment       135.07       NaN  7,521.47\n",
       " 10       Apr 14 Direct debit       200.00       NaN  7,321.47\n",
       " 11            Apr 14 Deposit          NaN    250.00  7.567.87\n",
       " 12       Apr 15 Bill payment       525.72       NaN  7,042.15\n",
       " 13       Apr 17 Bill payment       327.63       NaN  6,714.52\n",
       " 14       Apr 17 Bill payment       729.96       NaN  5,984.56\n",
       " 15       Apr 18 Bill payment       223.69       NaN  5,710.87]"
      ]
     },
     "execution_count": 21,
     "metadata": {},
     "output_type": "execute_result"
    }
   ],
   "source": [
    "\n",
    "# reading table using tabula\n",
    "filepath = \"/Users/runchentao/Desktop/bank statement template 09.pdf\"\n",
    "\n",
    "rows = tb.read_pdf(filepath,\n",
    "                       pages='all',\n",
    "                       silent=True,\n",
    "                       pandas_options={\n",
    "                           'header': None\n",
    "                       })\n",
    "rows"
   ]
  },
  {
   "cell_type": "code",
   "execution_count": 36,
   "metadata": {},
   "outputs": [
    {
     "data": {
      "text/plain": [
       "[                           0            1         2         3\n",
       " 0   Your Transaction Details                                 \n",
       " 2               Date Details  Withdrawals  Deposits   Balance\n",
       " 4      Apr 8 Opening Balance                         5,234.09\n",
       " 5            Apr 8 Insurance                 272.45  5,506.54\n",
       " 6                 Apr 10 ATM       200.00            5,306.54\n",
       " 7   Apr 12 Internet Transfer                 250.00  5,556.54\n",
       " 8             Apr 12 Payroll                2100.00  7,656.54\n",
       " 9        Apr 13 Bill payment       135.07            7,521.47\n",
       " 10       Apr 14 Direct debit       200.00            7,321.47\n",
       " 11            Apr 14 Deposit                 250.00  7.567.87\n",
       " 12       Apr 15 Bill payment       525.72            7,042.15\n",
       " 13       Apr 17 Bill payment       327.63            6,714.52\n",
       " 14       Apr 17 Bill payment       729.96            5,984.56\n",
       " 15       Apr 18 Bill payment       223.69            5,710.87]"
      ]
     },
     "execution_count": 36,
     "metadata": {},
     "output_type": "execute_result"
    }
   ],
   "source": [
    "for row in rows:\n",
    "    row.dropna (how = 'all', inplace = True)\n",
    "    \n",
    "for row in rows:\n",
    "    row.fillna(\"\", inplace= True)\n",
    "    \n",
    "rows"
   ]
  },
  {
   "cell_type": "code",
   "execution_count": null,
   "metadata": {},
   "outputs": [],
   "source": []
  }
 ],
 "metadata": {
  "kernelspec": {
   "display_name": "Python 3",
   "language": "python",
   "name": "python3"
  },
  "language_info": {
   "codemirror_mode": {
    "name": "ipython",
    "version": 3
   },
   "file_extension": ".py",
   "mimetype": "text/x-python",
   "name": "python",
   "nbconvert_exporter": "python",
   "pygments_lexer": "ipython3",
   "version": "3.7.7"
  }
 },
 "nbformat": 4,
 "nbformat_minor": 4
}
