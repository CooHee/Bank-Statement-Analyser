{
 "cells": [
  {
   "cell_type": "code",
   "execution_count": 21,
   "metadata": {
    "scrolled": true
   },
   "outputs": [
    {
     "name": "stdout",
     "output_type": "stream",
     "text": [
      "Unknown bank\n"
     ]
    }
   ],
   "source": [
    "import mmap\n",
    "\n",
    "def check():\n",
    "        with open('/Users/runchentao/Desktop/CMPE 188 Team Project/unknown.txt', 'rb', 0) as datafile, \\\n",
    "         mmap.mmap(datafile.fileno(), 0, access=mmap.ACCESS_READ) as s:\n",
    "            \n",
    "            if s.find(b'Chase') != -1:\n",
    "                return \"Chase bank detected\"\n",
    "            \n",
    "            if s.find(b'Bank of America') != -1:\n",
    "                return \"Bank of America detected\"\n",
    "            \n",
    "            else:\n",
    "                return \"Unknown bank\"\n",
    "\n",
    "found = check()\n",
    "print (found)"
   ]
  },
  {
   "cell_type": "code",
   "execution_count": null,
   "metadata": {},
   "outputs": [],
   "source": []
  }
 ],
 "metadata": {
  "kernelspec": {
   "display_name": "Python 3",
   "language": "python",
   "name": "python3"
  },
  "language_info": {
   "codemirror_mode": {
    "name": "ipython",
    "version": 3
   },
   "file_extension": ".py",
   "mimetype": "text/x-python",
   "name": "python",
   "nbconvert_exporter": "python",
   "pygments_lexer": "ipython3",
   "version": "3.7.7"
  }
 },
 "nbformat": 4,
 "nbformat_minor": 4
}
